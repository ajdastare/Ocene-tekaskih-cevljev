{
 "cells": [
  {
   "cell_type": "markdown",
   "metadata": {},
   "source": [
    "# Analiza tekaških čevljev"
   ]
  },
  {
   "cell_type": "markdown",
   "metadata": {},
   "source": [
    "Analizirala bom podatke tekaških čevljev. Zajela sem podatke o modelu, znamki, oceni, številu ocen, ceni in terenu. \n",
    "Z analizo podatkov bom skušala ugotoviti: \n",
    "Ali obstaja povezava med najbolje ocenjenimi modeli tekaških čevljev in višjo ceno? Ali so mogoče modeli z nižjo ceno bolje ocenjeni? \n",
    "Ali obstaja povezava me najbolje ocenjenimi modeli in znamko?\n",
    "Katere znamke čevljev so najbolj ocenjene in kateri modeli?"
   ]
  },
  {
   "cell_type": "markdown",
   "metadata": {},
   "source": [
    "## 1. Urejanje in uvoz podatkov"
   ]
  },
  {
   "cell_type": "code",
   "execution_count": 2,
   "metadata": {},
   "outputs": [],
   "source": [
    "# naložimo paket pandas\n",
    "import pandas as pd\n",
    "import matplotlib.pyplot as plt\n"
   ]
  },
  {
   "cell_type": "markdown",
   "metadata": {},
   "source": [
    "Podatke sem uvozila iz datoteke 'obdelani-podatki/vsi-modeli.csv'. Datoteka že vsebuje urejene podatke, zato dodatno urejanje ni potrebno. V razpredelnici imamo znamko, model, teren, oceno in število ocen."
   ]
  },
  {
   "cell_type": "code",
   "execution_count": 4,
   "metadata": {},
   "outputs": [],
   "source": [
    "modeli = pd.read_csv('obdelani-podatki/vsi-modeli.csv')\n",
    "\n",
    "# ker bomo delali z velikimi razpredelnicami, povemo, da naj se vedno izpiše le 20 vrstic\n",
    "pd.options.display.max_rows = 20"
   ]
  },
  {
   "cell_type": "code",
   "execution_count": 5,
   "metadata": {},
   "outputs": [
    {
     "data": {
      "text/html": [
       "<div>\n",
       "<style scoped>\n",
       "    .dataframe tbody tr th:only-of-type {\n",
       "        vertical-align: middle;\n",
       "    }\n",
       "\n",
       "    .dataframe tbody tr th {\n",
       "        vertical-align: top;\n",
       "    }\n",
       "\n",
       "    .dataframe thead th {\n",
       "        text-align: right;\n",
       "    }\n",
       "</style>\n",
       "<table border=\"1\" class=\"dataframe\">\n",
       "  <thead>\n",
       "    <tr style=\"text-align: right;\">\n",
       "      <th></th>\n",
       "      <th>znamka</th>\n",
       "      <th>model</th>\n",
       "      <th>teren</th>\n",
       "      <th>cena</th>\n",
       "      <th>ocena</th>\n",
       "      <th>stevilo ocen</th>\n",
       "    </tr>\n",
       "  </thead>\n",
       "  <tbody>\n",
       "    <tr>\n",
       "      <th>0</th>\n",
       "      <td>Nike</td>\n",
       "      <td>Nike Air Zoom Winflo 4</td>\n",
       "      <td>Road</td>\n",
       "      <td>110</td>\n",
       "      <td>4.7</td>\n",
       "      <td>97.0</td>\n",
       "    </tr>\n",
       "    <tr>\n",
       "      <th>1</th>\n",
       "      <td>Altra</td>\n",
       "      <td>Altra Escalante 1.5</td>\n",
       "      <td>Road</td>\n",
       "      <td>160</td>\n",
       "      <td>4.7</td>\n",
       "      <td>251.0</td>\n",
       "    </tr>\n",
       "    <tr>\n",
       "      <th>2</th>\n",
       "      <td>Merrell</td>\n",
       "      <td>Merrell All Out Crush Tough Mudder 2 BOA</td>\n",
       "      <td>Trail</td>\n",
       "      <td>150</td>\n",
       "      <td>4.8</td>\n",
       "      <td>66.0</td>\n",
       "    </tr>\n",
       "    <tr>\n",
       "      <th>3</th>\n",
       "      <td>Skechers</td>\n",
       "      <td>Skechers GOrun Ride 7</td>\n",
       "      <td>Road</td>\n",
       "      <td>110</td>\n",
       "      <td>4.6</td>\n",
       "      <td>147.0</td>\n",
       "    </tr>\n",
       "    <tr>\n",
       "      <th>4</th>\n",
       "      <td>Adidas</td>\n",
       "      <td>Adidas Solar Glide</td>\n",
       "      <td>Road</td>\n",
       "      <td>170</td>\n",
       "      <td>4.5</td>\n",
       "      <td>157.0</td>\n",
       "    </tr>\n",
       "    <tr>\n",
       "      <th>5</th>\n",
       "      <td>Xero Shoes</td>\n",
       "      <td>Xero Shoes Prio</td>\n",
       "      <td>Trail</td>\n",
       "      <td>110</td>\n",
       "      <td>4.6</td>\n",
       "      <td>886.0</td>\n",
       "    </tr>\n",
       "    <tr>\n",
       "      <th>6</th>\n",
       "      <td>Reebok</td>\n",
       "      <td>Reebok Zigwild TR 5.0</td>\n",
       "      <td>Road</td>\n",
       "      <td>140</td>\n",
       "      <td>4.8</td>\n",
       "      <td>70.0</td>\n",
       "    </tr>\n",
       "    <tr>\n",
       "      <th>7</th>\n",
       "      <td>Asics</td>\n",
       "      <td>Asics Gel Kayano 25</td>\n",
       "      <td>Road</td>\n",
       "      <td>190</td>\n",
       "      <td>4.6</td>\n",
       "      <td>1030.0</td>\n",
       "    </tr>\n",
       "    <tr>\n",
       "      <th>8</th>\n",
       "      <td>Salomon</td>\n",
       "      <td>Salomon Sonic RA Max</td>\n",
       "      <td>Road</td>\n",
       "      <td>160</td>\n",
       "      <td>4.6</td>\n",
       "      <td>72.0</td>\n",
       "    </tr>\n",
       "    <tr>\n",
       "      <th>9</th>\n",
       "      <td>Adidas</td>\n",
       "      <td>Adidas Ultraboost Clima</td>\n",
       "      <td>Road</td>\n",
       "      <td>270</td>\n",
       "      <td>4.7</td>\n",
       "      <td>731.0</td>\n",
       "    </tr>\n",
       "    <tr>\n",
       "      <th>...</th>\n",
       "      <td>...</td>\n",
       "      <td>...</td>\n",
       "      <td>...</td>\n",
       "      <td>...</td>\n",
       "      <td>...</td>\n",
       "      <td>...</td>\n",
       "    </tr>\n",
       "    <tr>\n",
       "      <th>20</th>\n",
       "      <td>Altra</td>\n",
       "      <td>Altra Escalante</td>\n",
       "      <td>Road</td>\n",
       "      <td>160</td>\n",
       "      <td>4.6</td>\n",
       "      <td>484.0</td>\n",
       "    </tr>\n",
       "    <tr>\n",
       "      <th>21</th>\n",
       "      <td>Adidas</td>\n",
       "      <td>Adidas Terrex Skychaser GTX</td>\n",
       "      <td>Trail</td>\n",
       "      <td>240</td>\n",
       "      <td>4.6</td>\n",
       "      <td>385.0</td>\n",
       "    </tr>\n",
       "    <tr>\n",
       "      <th>22</th>\n",
       "      <td>Skechers</td>\n",
       "      <td>Skechers GOrun 600</td>\n",
       "      <td>Road</td>\n",
       "      <td>80</td>\n",
       "      <td>4.7</td>\n",
       "      <td>163.0</td>\n",
       "    </tr>\n",
       "    <tr>\n",
       "      <th>23</th>\n",
       "      <td>Under Armour</td>\n",
       "      <td>Under Armour Charged Escape 2</td>\n",
       "      <td>Road</td>\n",
       "      <td>110</td>\n",
       "      <td>4.7</td>\n",
       "      <td>128.0</td>\n",
       "    </tr>\n",
       "    <tr>\n",
       "      <th>24</th>\n",
       "      <td>Puma</td>\n",
       "      <td>Puma Carson 2 X Knit</td>\n",
       "      <td>Road</td>\n",
       "      <td>80</td>\n",
       "      <td>4.7</td>\n",
       "      <td>58.0</td>\n",
       "    </tr>\n",
       "    <tr>\n",
       "      <th>25</th>\n",
       "      <td>Brooks</td>\n",
       "      <td>Brooks Revel</td>\n",
       "      <td>Road</td>\n",
       "      <td>120</td>\n",
       "      <td>4.5</td>\n",
       "      <td>2111.0</td>\n",
       "    </tr>\n",
       "    <tr>\n",
       "      <th>26</th>\n",
       "      <td>Asics</td>\n",
       "      <td>Asics Gel Fortitude 7</td>\n",
       "      <td>Road</td>\n",
       "      <td>150</td>\n",
       "      <td>4.5</td>\n",
       "      <td>239.0</td>\n",
       "    </tr>\n",
       "    <tr>\n",
       "      <th>27</th>\n",
       "      <td>Adidas</td>\n",
       "      <td>Adidas Adistar Boost ESM</td>\n",
       "      <td>Road</td>\n",
       "      <td>210</td>\n",
       "      <td>4.6</td>\n",
       "      <td>318.0</td>\n",
       "    </tr>\n",
       "    <tr>\n",
       "      <th>28</th>\n",
       "      <td>Brooks</td>\n",
       "      <td>Brooks Ghost 10</td>\n",
       "      <td>Road</td>\n",
       "      <td>150</td>\n",
       "      <td>4.6</td>\n",
       "      <td>3099.0</td>\n",
       "    </tr>\n",
       "    <tr>\n",
       "      <th>29</th>\n",
       "      <td>Nike</td>\n",
       "      <td>Nike LunarEpic Flyknit Shield</td>\n",
       "      <td>Road</td>\n",
       "      <td>240</td>\n",
       "      <td>4.6</td>\n",
       "      <td>61.0</td>\n",
       "    </tr>\n",
       "  </tbody>\n",
       "</table>\n",
       "<p>30 rows × 6 columns</p>\n",
       "</div>"
      ],
      "text/plain": [
       "          znamka                                     model  teren  cena  \\\n",
       "0           Nike                    Nike Air Zoom Winflo 4   Road   110   \n",
       "1          Altra                       Altra Escalante 1.5   Road   160   \n",
       "2        Merrell  Merrell All Out Crush Tough Mudder 2 BOA  Trail   150   \n",
       "3       Skechers                     Skechers GOrun Ride 7   Road   110   \n",
       "4         Adidas                        Adidas Solar Glide   Road   170   \n",
       "5     Xero Shoes                           Xero Shoes Prio  Trail   110   \n",
       "6         Reebok                     Reebok Zigwild TR 5.0   Road   140   \n",
       "7          Asics                       Asics Gel Kayano 25   Road   190   \n",
       "8        Salomon                      Salomon Sonic RA Max   Road   160   \n",
       "9         Adidas                   Adidas Ultraboost Clima   Road   270   \n",
       "..           ...                                       ...    ...   ...   \n",
       "20         Altra                           Altra Escalante   Road   160   \n",
       "21        Adidas               Adidas Terrex Skychaser GTX  Trail   240   \n",
       "22      Skechers                        Skechers GOrun 600   Road    80   \n",
       "23  Under Armour             Under Armour Charged Escape 2   Road   110   \n",
       "24          Puma                      Puma Carson 2 X Knit   Road    80   \n",
       "25        Brooks                              Brooks Revel   Road   120   \n",
       "26         Asics                     Asics Gel Fortitude 7   Road   150   \n",
       "27        Adidas                  Adidas Adistar Boost ESM   Road   210   \n",
       "28        Brooks                           Brooks Ghost 10   Road   150   \n",
       "29          Nike             Nike LunarEpic Flyknit Shield   Road   240   \n",
       "\n",
       "    ocena  stevilo ocen  \n",
       "0     4.7          97.0  \n",
       "1     4.7         251.0  \n",
       "2     4.8          66.0  \n",
       "3     4.6         147.0  \n",
       "4     4.5         157.0  \n",
       "5     4.6         886.0  \n",
       "6     4.8          70.0  \n",
       "7     4.6        1030.0  \n",
       "8     4.6          72.0  \n",
       "9     4.7         731.0  \n",
       "..    ...           ...  \n",
       "20    4.6         484.0  \n",
       "21    4.6         385.0  \n",
       "22    4.7         163.0  \n",
       "23    4.7         128.0  \n",
       "24    4.7          58.0  \n",
       "25    4.5        2111.0  \n",
       "26    4.5         239.0  \n",
       "27    4.6         318.0  \n",
       "28    4.6        3099.0  \n",
       "29    4.6          61.0  \n",
       "\n",
       "[30 rows x 6 columns]"
      ]
     },
     "execution_count": 5,
     "metadata": {},
     "output_type": "execute_result"
    }
   ],
   "source": [
    "modeli.head(30)"
   ]
  },
  {
   "cell_type": "markdown",
   "metadata": {},
   "source": [
    "## Analiza podatkov"
   ]
  },
  {
   "cell_type": "code",
   "execution_count": null,
   "metadata": {},
   "outputs": [],
   "source": [
    "Za začetek me zanima, koliko modelov ima posamezna znamka."
   ]
  },
  {
   "cell_type": "code",
   "execution_count": 7,
   "metadata": {},
   "outputs": [
    {
     "data": {
      "text/html": [
       "<div>\n",
       "<style scoped>\n",
       "    .dataframe tbody tr th:only-of-type {\n",
       "        vertical-align: middle;\n",
       "    }\n",
       "\n",
       "    .dataframe tbody tr th {\n",
       "        vertical-align: top;\n",
       "    }\n",
       "\n",
       "    .dataframe thead th {\n",
       "        text-align: right;\n",
       "    }\n",
       "</style>\n",
       "<table border=\"1\" class=\"dataframe\">\n",
       "  <thead>\n",
       "    <tr style=\"text-align: right;\">\n",
       "      <th></th>\n",
       "      <th>model</th>\n",
       "      <th>teren</th>\n",
       "      <th>cena</th>\n",
       "      <th>ocena</th>\n",
       "      <th>stevilo ocen</th>\n",
       "    </tr>\n",
       "    <tr>\n",
       "      <th>znamka</th>\n",
       "      <th></th>\n",
       "      <th></th>\n",
       "      <th></th>\n",
       "      <th></th>\n",
       "      <th></th>\n",
       "    </tr>\n",
       "  </thead>\n",
       "  <tbody>\n",
       "    <tr>\n",
       "      <th>361 Degrees</th>\n",
       "      <td>10</td>\n",
       "      <td>10</td>\n",
       "      <td>10</td>\n",
       "      <td>4</td>\n",
       "      <td>4</td>\n",
       "    </tr>\n",
       "    <tr>\n",
       "      <th>Adidas</th>\n",
       "      <td>91</td>\n",
       "      <td>91</td>\n",
       "      <td>91</td>\n",
       "      <td>88</td>\n",
       "      <td>88</td>\n",
       "    </tr>\n",
       "    <tr>\n",
       "      <th>Altra</th>\n",
       "      <td>35</td>\n",
       "      <td>35</td>\n",
       "      <td>35</td>\n",
       "      <td>32</td>\n",
       "      <td>32</td>\n",
       "    </tr>\n",
       "    <tr>\n",
       "      <th>Asics</th>\n",
       "      <td>130</td>\n",
       "      <td>130</td>\n",
       "      <td>130</td>\n",
       "      <td>120</td>\n",
       "      <td>120</td>\n",
       "    </tr>\n",
       "    <tr>\n",
       "      <th>Brooks</th>\n",
       "      <td>47</td>\n",
       "      <td>47</td>\n",
       "      <td>47</td>\n",
       "      <td>46</td>\n",
       "      <td>46</td>\n",
       "    </tr>\n",
       "    <tr>\n",
       "      <th>Dynafit</th>\n",
       "      <td>1</td>\n",
       "      <td>1</td>\n",
       "      <td>1</td>\n",
       "      <td>0</td>\n",
       "      <td>0</td>\n",
       "    </tr>\n",
       "    <tr>\n",
       "      <th>Hoka One One</th>\n",
       "      <td>35</td>\n",
       "      <td>35</td>\n",
       "      <td>35</td>\n",
       "      <td>33</td>\n",
       "      <td>33</td>\n",
       "    </tr>\n",
       "    <tr>\n",
       "      <th>Inov-8</th>\n",
       "      <td>31</td>\n",
       "      <td>31</td>\n",
       "      <td>31</td>\n",
       "      <td>29</td>\n",
       "      <td>29</td>\n",
       "    </tr>\n",
       "    <tr>\n",
       "      <th>Jordan</th>\n",
       "      <td>4</td>\n",
       "      <td>4</td>\n",
       "      <td>4</td>\n",
       "      <td>3</td>\n",
       "      <td>3</td>\n",
       "    </tr>\n",
       "    <tr>\n",
       "      <th>La Sportiva</th>\n",
       "      <td>15</td>\n",
       "      <td>15</td>\n",
       "      <td>15</td>\n",
       "      <td>14</td>\n",
       "      <td>14</td>\n",
       "    </tr>\n",
       "  </tbody>\n",
       "</table>\n",
       "</div>"
      ],
      "text/plain": [
       "              model  teren  cena  ocena  stevilo ocen\n",
       "znamka                                               \n",
       "361 Degrees      10     10    10      4             4\n",
       "Adidas           91     91    91     88            88\n",
       "Altra            35     35    35     32            32\n",
       "Asics           130    130   130    120           120\n",
       "Brooks           47     47    47     46            46\n",
       "Dynafit           1      1     1      0             0\n",
       "Hoka One One     35     35    35     33            33\n",
       "Inov-8           31     31    31     29            29\n",
       "Jordan            4      4     4      3             3\n",
       "La Sportiva      15     15    15     14            14"
      ]
     },
     "execution_count": 7,
     "metadata": {},
     "output_type": "execute_result"
    }
   ],
   "source": [
    "modeli.groupby('znamka').count().head(10)"
   ]
  },
  {
   "cell_type": "code",
   "execution_count": 11,
   "metadata": {},
   "outputs": [
    {
     "data": {
      "text/plain": [
       "<matplotlib.axes._subplots.AxesSubplot at 0x113da9ba8>"
      ]
     },
     "execution_count": 11,
     "metadata": {},
     "output_type": "execute_result"
    },
    {
     "data": {
      "image/png": "[encoded data removed]",
      "text/plain": [
       "<Figure size 432x288 with 1 Axes>"
      ]
     },
     "metadata": {
      "needs_background": "light"
     },
     "output_type": "display_data"
    }
   ],
   "source": [
    "modeli.groupby('znamka').count().sort_values('model', ascending=False).plot.bar(y = 'model')"
   ]
  },
  {
   "cell_type": "markdown",
   "metadata": {},
   "source": [
    "Vidimo, da ima največje število modelov tekaških čevljev Asics. Sledita ji znamki Nike in Adidas."
   ]
  },
  {
   "cell_type": "markdown",
   "metadata": {},
   "source": [
    "Zanima me še povprečna cena modelov, ocena in število ocen glede na znamko. Potrebno je omeniti, da pri nekaterih modelih podatka o oceni in številu ocen ni, saj so lahko znamke oziroma modeli razmeroma novi. "
   ]
  },
  {
   "cell_type": "code",
   "execution_count": 14,
   "metadata": {},
   "outputs": [
    {
     "data": {
      "text/html": [
       "<div>\n",
       "<style scoped>\n",
       "    .dataframe tbody tr th:only-of-type {\n",
       "        vertical-align: middle;\n",
       "    }\n",
       "\n",
       "    .dataframe tbody tr th {\n",
       "        vertical-align: top;\n",
       "    }\n",
       "\n",
       "    .dataframe thead th {\n",
       "        text-align: right;\n",
       "    }\n",
       "</style>\n",
       "<table border=\"1\" class=\"dataframe\">\n",
       "  <thead>\n",
       "    <tr style=\"text-align: right;\">\n",
       "      <th></th>\n",
       "      <th>cena</th>\n",
       "      <th>ocena</th>\n",
       "      <th>stevilo ocen</th>\n",
       "    </tr>\n",
       "    <tr>\n",
       "      <th>znamka</th>\n",
       "      <th></th>\n",
       "      <th></th>\n",
       "      <th></th>\n",
       "    </tr>\n",
       "  </thead>\n",
       "  <tbody>\n",
       "    <tr>\n",
       "      <th>361 Degrees</th>\n",
       "      <td>148.000000</td>\n",
       "      <td>4.575000</td>\n",
       "      <td>7.750000</td>\n",
       "    </tr>\n",
       "    <tr>\n",
       "      <th>Adidas</th>\n",
       "      <td>153.516484</td>\n",
       "      <td>4.452273</td>\n",
       "      <td>477.477273</td>\n",
       "    </tr>\n",
       "    <tr>\n",
       "      <th>Altra</th>\n",
       "      <td>161.428571</td>\n",
       "      <td>4.200000</td>\n",
       "      <td>258.937500</td>\n",
       "    </tr>\n",
       "    <tr>\n",
       "      <th>Asics</th>\n",
       "      <td>146.000000</td>\n",
       "      <td>4.297500</td>\n",
       "      <td>720.766667</td>\n",
       "    </tr>\n",
       "    <tr>\n",
       "      <th>Brooks</th>\n",
       "      <td>155.744681</td>\n",
       "      <td>4.358696</td>\n",
       "      <td>709.043478</td>\n",
       "    </tr>\n",
       "    <tr>\n",
       "      <th>Dynafit</th>\n",
       "      <td>170.000000</td>\n",
       "      <td>NaN</td>\n",
       "      <td>NaN</td>\n",
       "    </tr>\n",
       "    <tr>\n",
       "      <th>Hoka One One</th>\n",
       "      <td>170.571429</td>\n",
       "      <td>4.239394</td>\n",
       "      <td>268.212121</td>\n",
       "    </tr>\n",
       "    <tr>\n",
       "      <th>Inov-8</th>\n",
       "      <td>161.935484</td>\n",
       "      <td>4.262069</td>\n",
       "      <td>65.517241</td>\n",
       "    </tr>\n",
       "    <tr>\n",
       "      <th>Jordan</th>\n",
       "      <td>130.000000</td>\n",
       "      <td>4.566667</td>\n",
       "      <td>66.666667</td>\n",
       "    </tr>\n",
       "    <tr>\n",
       "      <th>La Sportiva</th>\n",
       "      <td>176.666667</td>\n",
       "      <td>4.400000</td>\n",
       "      <td>76.571429</td>\n",
       "    </tr>\n",
       "    <tr>\n",
       "      <th>Merrell</th>\n",
       "      <td>135.000000</td>\n",
       "      <td>4.331818</td>\n",
       "      <td>480.863636</td>\n",
       "    </tr>\n",
       "    <tr>\n",
       "      <th>Mizuno</th>\n",
       "      <td>166.000000</td>\n",
       "      <td>4.383333</td>\n",
       "      <td>328.708333</td>\n",
       "    </tr>\n",
       "    <tr>\n",
       "      <th>New Balance</th>\n",
       "      <td>132.168675</td>\n",
       "      <td>4.234667</td>\n",
       "      <td>359.653333</td>\n",
       "    </tr>\n",
       "    <tr>\n",
       "      <th>Newton</th>\n",
       "      <td>187.500000</td>\n",
       "      <td>4.337500</td>\n",
       "      <td>25.750000</td>\n",
       "    </tr>\n",
       "    <tr>\n",
       "      <th>Nike</th>\n",
       "      <td>145.702479</td>\n",
       "      <td>4.317949</td>\n",
       "      <td>776.769231</td>\n",
       "    </tr>\n",
       "    <tr>\n",
       "      <th>On</th>\n",
       "      <td>185.882353</td>\n",
       "      <td>4.275000</td>\n",
       "      <td>226.625000</td>\n",
       "    </tr>\n",
       "    <tr>\n",
       "      <th>Puma</th>\n",
       "      <td>125.769231</td>\n",
       "      <td>4.465217</td>\n",
       "      <td>159.739130</td>\n",
       "    </tr>\n",
       "    <tr>\n",
       "      <th>Reebok</th>\n",
       "      <td>113.421053</td>\n",
       "      <td>4.375676</td>\n",
       "      <td>95.702703</td>\n",
       "    </tr>\n",
       "    <tr>\n",
       "      <th>Salming</th>\n",
       "      <td>160.000000</td>\n",
       "      <td>4.000000</td>\n",
       "      <td>6.000000</td>\n",
       "    </tr>\n",
       "    <tr>\n",
       "      <th>Salomon</th>\n",
       "      <td>178.684211</td>\n",
       "      <td>4.413514</td>\n",
       "      <td>810.000000</td>\n",
       "    </tr>\n",
       "  </tbody>\n",
       "</table>\n",
       "</div>"
      ],
      "text/plain": [
       "                    cena     ocena  stevilo ocen\n",
       "znamka                                          \n",
       "361 Degrees   148.000000  4.575000      7.750000\n",
       "Adidas        153.516484  4.452273    477.477273\n",
       "Altra         161.428571  4.200000    258.937500\n",
       "Asics         146.000000  4.297500    720.766667\n",
       "Brooks        155.744681  4.358696    709.043478\n",
       "Dynafit       170.000000       NaN           NaN\n",
       "Hoka One One  170.571429  4.239394    268.212121\n",
       "Inov-8        161.935484  4.262069     65.517241\n",
       "Jordan        130.000000  4.566667     66.666667\n",
       "La Sportiva   176.666667  4.400000     76.571429\n",
       "Merrell       135.000000  4.331818    480.863636\n",
       "Mizuno        166.000000  4.383333    328.708333\n",
       "New Balance   132.168675  4.234667    359.653333\n",
       "Newton        187.500000  4.337500     25.750000\n",
       "Nike          145.702479  4.317949    776.769231\n",
       "On            185.882353  4.275000    226.625000\n",
       "Puma          125.769231  4.465217    159.739130\n",
       "Reebok        113.421053  4.375676     95.702703\n",
       "Salming       160.000000  4.000000      6.000000\n",
       "Salomon       178.684211  4.413514    810.000000"
      ]
     },
     "execution_count": 14,
     "metadata": {},
     "output_type": "execute_result"
    }
   ],
   "source": [
    "modeli.groupby('znamka').mean().head(20)"
   ]
  },
  {
   "cell_type": "markdown",
   "metadata": {},
   "source": [
    "Zgoraj je iz zadnjih dveh tabel razvidno, da imajo nekateri modeli zelo malo ocen. Predvidevam, da imajo modeli z manjšem številom ocen, razmeroma boljšo oceno. V spodnji tabeli, so podatki modelov, ki imajo oceno 4.9 ali 5, torej najbolje ocenjeni modeli. Vidimo, da je takih modelov le 7. Število ocen pa je v primerjavi z ostalimi modeli majhno. Znamke pri najbolje ocenjenih modelih pa so Topo Athletic, Reebok, Asics, Adidas, Inov-8 in Salomon. "
   ]
  },
  {
   "cell_type": "markdown",
   "metadata": {},
   "source": [
    "#### Najboljši modeli glede na oceno"
   ]
  },
  {
   "cell_type": "code",
   "execution_count": 19,
   "metadata": {
    "scrolled": false
   },
   "outputs": [
    {
     "data": {
      "text/html": [
       "<div>\n",
       "<style scoped>\n",
       "    .dataframe tbody tr th:only-of-type {\n",
       "        vertical-align: middle;\n",
       "    }\n",
       "\n",
       "    .dataframe tbody tr th {\n",
       "        vertical-align: top;\n",
       "    }\n",
       "\n",
       "    .dataframe thead th {\n",
       "        text-align: right;\n",
       "    }\n",
       "</style>\n",
       "<table border=\"1\" class=\"dataframe\">\n",
       "  <thead>\n",
       "    <tr style=\"text-align: right;\">\n",
       "      <th></th>\n",
       "      <th>znamka</th>\n",
       "      <th>model</th>\n",
       "      <th>teren</th>\n",
       "      <th>cena</th>\n",
       "      <th>ocena</th>\n",
       "      <th>stevilo ocen</th>\n",
       "    </tr>\n",
       "  </thead>\n",
       "  <tbody>\n",
       "    <tr>\n",
       "      <th>131</th>\n",
       "      <td>Topo Athletic</td>\n",
       "      <td>Topo Athletic Runventure 2</td>\n",
       "      <td>Trail</td>\n",
       "      <td>140</td>\n",
       "      <td>4.9</td>\n",
       "      <td>20.0</td>\n",
       "    </tr>\n",
       "    <tr>\n",
       "      <th>265</th>\n",
       "      <td>Reebok</td>\n",
       "      <td>Reebok OSR Grasse Road</td>\n",
       "      <td>Road</td>\n",
       "      <td>150</td>\n",
       "      <td>5.0</td>\n",
       "      <td>7.0</td>\n",
       "    </tr>\n",
       "    <tr>\n",
       "      <th>378</th>\n",
       "      <td>Asics</td>\n",
       "      <td>Asics DynaFlyte 3 Sound</td>\n",
       "      <td>Road</td>\n",
       "      <td>160</td>\n",
       "      <td>4.9</td>\n",
       "      <td>16.0</td>\n",
       "    </tr>\n",
       "    <tr>\n",
       "      <th>506</th>\n",
       "      <td>Adidas</td>\n",
       "      <td>Adidas Supernova Trail</td>\n",
       "      <td>Trail</td>\n",
       "      <td>170</td>\n",
       "      <td>4.9</td>\n",
       "      <td>21.0</td>\n",
       "    </tr>\n",
       "    <tr>\n",
       "      <th>742</th>\n",
       "      <td>Inov-8</td>\n",
       "      <td>Inov-8 Roclite 320 GTX</td>\n",
       "      <td>Trail</td>\n",
       "      <td>190</td>\n",
       "      <td>4.9</td>\n",
       "      <td>7.0</td>\n",
       "    </tr>\n",
       "    <tr>\n",
       "      <th>743</th>\n",
       "      <td>Reebok</td>\n",
       "      <td>Reebok Instalite Lux</td>\n",
       "      <td>Road</td>\n",
       "      <td>80</td>\n",
       "      <td>4.9</td>\n",
       "      <td>7.0</td>\n",
       "    </tr>\n",
       "    <tr>\n",
       "      <th>744</th>\n",
       "      <td>Salomon</td>\n",
       "      <td>Salomon S-Lab Sense 7</td>\n",
       "      <td>Trail</td>\n",
       "      <td>220</td>\n",
       "      <td>4.9</td>\n",
       "      <td>7.0</td>\n",
       "    </tr>\n",
       "  </tbody>\n",
       "</table>\n",
       "</div>"
      ],
      "text/plain": [
       "            znamka                       model  teren  cena  ocena  \\\n",
       "131  Topo Athletic  Topo Athletic Runventure 2  Trail   140    4.9   \n",
       "265         Reebok      Reebok OSR Grasse Road   Road   150    5.0   \n",
       "378          Asics     Asics DynaFlyte 3 Sound   Road   160    4.9   \n",
       "506         Adidas      Adidas Supernova Trail  Trail   170    4.9   \n",
       "742         Inov-8      Inov-8 Roclite 320 GTX  Trail   190    4.9   \n",
       "743         Reebok        Reebok Instalite Lux   Road    80    4.9   \n",
       "744        Salomon       Salomon S-Lab Sense 7  Trail   220    4.9   \n",
       "\n",
       "     stevilo ocen  \n",
       "131          20.0  \n",
       "265           7.0  \n",
       "378          16.0  \n",
       "506          21.0  \n",
       "742           7.0  \n",
       "743           7.0  \n",
       "744           7.0  "
      ]
     },
     "execution_count": 19,
     "metadata": {},
     "output_type": "execute_result"
    }
   ],
   "source": [
    "modeli[modeli.ocena > 4.8].head(100)"
   ]
  },
  {
   "cell_type": "code",
   "execution_count": 112,
   "metadata": {},
   "outputs": [
    {
     "data": {
      "text/plain": [
       "<matplotlib.axes._subplots.AxesSubplot at 0x12e2fa2e8>"
      ]
     },
     "execution_count": 112,
     "metadata": {},
     "output_type": "execute_result"
    },
    {
     "data": {
      "image/png": "[encoded data removed]",
      "text/plain": [
       "<Figure size 432x288 with 1 Axes>"
      ]
     },
     "metadata": {
      "needs_background": "light"
     },
     "output_type": "display_data"
    }
   ],
   "source": [
    "modeli[modeli.ocena > 4.8].head(100).sort_values('ocena',ascending=False).plot.bar(x = 'model', y = 'cena')"
   ]
  },
  {
   "cell_type": "markdown",
   "metadata": {},
   "source": [
    "Iz zgornje tabele in grafa vidimo, da izstopa znamka Reebok z modelom Instalite Lux, ki je ocenjen z oceno 4.9 s ceno 80 EUR. Preostali modeli imajo ceno večjo od 140 EUR. Najboljšo oceno ima model Reebok OSR Geasse Road in je drugi najcenejši model med najbolje ocenjenimi. Ena od hipotez je, da ima izdelek z manjšo ceno boljšo oceno, kar pa ta graf ne potrjuje, saj je preveč raznolik, da bi lahko to potrdili. "
   ]
  },
  {
   "cell_type": "markdown",
   "metadata": {},
   "source": [
    "#### Najboljše znamke, glede na povprečno oceno"
   ]
  },
  {
   "cell_type": "markdown",
   "metadata": {},
   "source": [
    "Zanima me, kakšne podatke dobimo če podatke združimo po znamkah. Poglejmo si povprečje za število ocen in oceno za posamezno znamko. Vidimo, da povprečne ocena večje od 4.8 sploh ni. V naslednji tabeli je zanimivo to, da sta le dve znamki, ki imata povprečno oceno večjo od 4.5, to sta 361 Degrees in Jordan. Zanimivo je tudi to, da teh dveh znamk ni v zgornji tabeli, kjer so prikazani najboljši modeli glede na oceno. "
   ]
  },
  {
   "cell_type": "code",
   "execution_count": 21,
   "metadata": {},
   "outputs": [
    {
     "data": {
      "text/html": [
       "<div>\n",
       "<style scoped>\n",
       "    .dataframe tbody tr th:only-of-type {\n",
       "        vertical-align: middle;\n",
       "    }\n",
       "\n",
       "    .dataframe tbody tr th {\n",
       "        vertical-align: top;\n",
       "    }\n",
       "\n",
       "    .dataframe thead th {\n",
       "        text-align: right;\n",
       "    }\n",
       "</style>\n",
       "<table border=\"1\" class=\"dataframe\">\n",
       "  <thead>\n",
       "    <tr style=\"text-align: right;\">\n",
       "      <th></th>\n",
       "      <th>stevilo ocen</th>\n",
       "      <th>ocena</th>\n",
       "    </tr>\n",
       "    <tr>\n",
       "      <th>znamka</th>\n",
       "      <th></th>\n",
       "      <th></th>\n",
       "    </tr>\n",
       "  </thead>\n",
       "  <tbody>\n",
       "  </tbody>\n",
       "</table>\n",
       "</div>"
      ],
      "text/plain": [
       "Empty DataFrame\n",
       "Columns: [stevilo ocen, ocena]\n",
       "Index: []"
      ]
     },
     "execution_count": 21,
     "metadata": {},
     "output_type": "execute_result"
    }
   ],
   "source": [
    "m4 = modeli[['znamka','stevilo ocen','ocena']]\n",
    "m5 = m4.groupby('znamka').mean()\n",
    "m5[m5.ocena > 4.8].head(30)"
   ]
  },
  {
   "cell_type": "code",
   "execution_count": 22,
   "metadata": {},
   "outputs": [
    {
     "data": {
      "text/html": [
       "<div>\n",
       "<style scoped>\n",
       "    .dataframe tbody tr th:only-of-type {\n",
       "        vertical-align: middle;\n",
       "    }\n",
       "\n",
       "    .dataframe tbody tr th {\n",
       "        vertical-align: top;\n",
       "    }\n",
       "\n",
       "    .dataframe thead th {\n",
       "        text-align: right;\n",
       "    }\n",
       "</style>\n",
       "<table border=\"1\" class=\"dataframe\">\n",
       "  <thead>\n",
       "    <tr style=\"text-align: right;\">\n",
       "      <th></th>\n",
       "      <th>stevilo ocen</th>\n",
       "      <th>ocena</th>\n",
       "    </tr>\n",
       "    <tr>\n",
       "      <th>znamka</th>\n",
       "      <th></th>\n",
       "      <th></th>\n",
       "    </tr>\n",
       "  </thead>\n",
       "  <tbody>\n",
       "    <tr>\n",
       "      <th>361 Degrees</th>\n",
       "      <td>7.750000</td>\n",
       "      <td>4.575000</td>\n",
       "    </tr>\n",
       "    <tr>\n",
       "      <th>Jordan</th>\n",
       "      <td>66.666667</td>\n",
       "      <td>4.566667</td>\n",
       "    </tr>\n",
       "  </tbody>\n",
       "</table>\n",
       "</div>"
      ],
      "text/plain": [
       "             stevilo ocen     ocena\n",
       "znamka                             \n",
       "361 Degrees      7.750000  4.575000\n",
       "Jordan          66.666667  4.566667"
      ]
     },
     "execution_count": 22,
     "metadata": {},
     "output_type": "execute_result"
    }
   ],
   "source": [
    "m5[m5.ocena > 4.5].head(50)"
   ]
  },
  {
   "cell_type": "markdown",
   "metadata": {},
   "source": [
    "#### Razmerje med oceno in številom ocen"
   ]
  },
  {
   "cell_type": "markdown",
   "metadata": {},
   "source": [
    "Ker modeli nimajo enako število ocen, me zanima razmerje med oceno in številom ocen. V spodnji tabeli sem razmerji dodala na koncu tabele. To sem storila zato, da bi dobili bolj relavanten kazalnik za oceno modela. Ugotovimo, da manjši kot je prvi kazalnik, ozirom večji kot je drugi kazalnik boljšo oceno lahko damo določenemu modelu."
   ]
  },
  {
   "cell_type": "code",
   "execution_count": 24,
   "metadata": {},
   "outputs": [
    {
     "data": {
      "text/html": [
       "<div>\n",
       "<style scoped>\n",
       "    .dataframe tbody tr th:only-of-type {\n",
       "        vertical-align: middle;\n",
       "    }\n",
       "\n",
       "    .dataframe tbody tr th {\n",
       "        vertical-align: top;\n",
       "    }\n",
       "\n",
       "    .dataframe thead th {\n",
       "        text-align: right;\n",
       "    }\n",
       "</style>\n",
       "<table border=\"1\" class=\"dataframe\">\n",
       "  <thead>\n",
       "    <tr style=\"text-align: right;\">\n",
       "      <th></th>\n",
       "      <th>znamka</th>\n",
       "      <th>model</th>\n",
       "      <th>teren</th>\n",
       "      <th>cena</th>\n",
       "      <th>ocena</th>\n",
       "      <th>stevilo ocen</th>\n",
       "      <th>ocena/st_ocen</th>\n",
       "      <th>st_ocen/ocena</th>\n",
       "    </tr>\n",
       "  </thead>\n",
       "  <tbody>\n",
       "    <tr>\n",
       "      <th>0</th>\n",
       "      <td>Nike</td>\n",
       "      <td>Nike Air Zoom Winflo 4</td>\n",
       "      <td>Road</td>\n",
       "      <td>110</td>\n",
       "      <td>4.7</td>\n",
       "      <td>97.0</td>\n",
       "      <td>0.05</td>\n",
       "      <td>20.64</td>\n",
       "    </tr>\n",
       "    <tr>\n",
       "      <th>1</th>\n",
       "      <td>Altra</td>\n",
       "      <td>Altra Escalante 1.5</td>\n",
       "      <td>Road</td>\n",
       "      <td>160</td>\n",
       "      <td>4.7</td>\n",
       "      <td>251.0</td>\n",
       "      <td>0.02</td>\n",
       "      <td>53.40</td>\n",
       "    </tr>\n",
       "    <tr>\n",
       "      <th>2</th>\n",
       "      <td>Merrell</td>\n",
       "      <td>Merrell All Out Crush Tough Mudder 2 BOA</td>\n",
       "      <td>Trail</td>\n",
       "      <td>150</td>\n",
       "      <td>4.8</td>\n",
       "      <td>66.0</td>\n",
       "      <td>0.07</td>\n",
       "      <td>13.75</td>\n",
       "    </tr>\n",
       "    <tr>\n",
       "      <th>3</th>\n",
       "      <td>Skechers</td>\n",
       "      <td>Skechers GOrun Ride 7</td>\n",
       "      <td>Road</td>\n",
       "      <td>110</td>\n",
       "      <td>4.6</td>\n",
       "      <td>147.0</td>\n",
       "      <td>0.03</td>\n",
       "      <td>31.96</td>\n",
       "    </tr>\n",
       "    <tr>\n",
       "      <th>4</th>\n",
       "      <td>Adidas</td>\n",
       "      <td>Adidas Solar Glide</td>\n",
       "      <td>Road</td>\n",
       "      <td>170</td>\n",
       "      <td>4.5</td>\n",
       "      <td>157.0</td>\n",
       "      <td>0.03</td>\n",
       "      <td>34.89</td>\n",
       "    </tr>\n",
       "    <tr>\n",
       "      <th>5</th>\n",
       "      <td>Xero Shoes</td>\n",
       "      <td>Xero Shoes Prio</td>\n",
       "      <td>Trail</td>\n",
       "      <td>110</td>\n",
       "      <td>4.6</td>\n",
       "      <td>886.0</td>\n",
       "      <td>0.01</td>\n",
       "      <td>192.61</td>\n",
       "    </tr>\n",
       "    <tr>\n",
       "      <th>6</th>\n",
       "      <td>Reebok</td>\n",
       "      <td>Reebok Zigwild TR 5.0</td>\n",
       "      <td>Road</td>\n",
       "      <td>140</td>\n",
       "      <td>4.8</td>\n",
       "      <td>70.0</td>\n",
       "      <td>0.07</td>\n",
       "      <td>14.58</td>\n",
       "    </tr>\n",
       "    <tr>\n",
       "      <th>7</th>\n",
       "      <td>Asics</td>\n",
       "      <td>Asics Gel Kayano 25</td>\n",
       "      <td>Road</td>\n",
       "      <td>190</td>\n",
       "      <td>4.6</td>\n",
       "      <td>1030.0</td>\n",
       "      <td>0.00</td>\n",
       "      <td>223.91</td>\n",
       "    </tr>\n",
       "    <tr>\n",
       "      <th>8</th>\n",
       "      <td>Salomon</td>\n",
       "      <td>Salomon Sonic RA Max</td>\n",
       "      <td>Road</td>\n",
       "      <td>160</td>\n",
       "      <td>4.6</td>\n",
       "      <td>72.0</td>\n",
       "      <td>0.06</td>\n",
       "      <td>15.65</td>\n",
       "    </tr>\n",
       "    <tr>\n",
       "      <th>9</th>\n",
       "      <td>Adidas</td>\n",
       "      <td>Adidas Ultraboost Clima</td>\n",
       "      <td>Road</td>\n",
       "      <td>270</td>\n",
       "      <td>4.7</td>\n",
       "      <td>731.0</td>\n",
       "      <td>0.01</td>\n",
       "      <td>155.53</td>\n",
       "    </tr>\n",
       "  </tbody>\n",
       "</table>\n",
       "</div>"
      ],
      "text/plain": [
       "       znamka                                     model  teren  cena  ocena  \\\n",
       "0        Nike                    Nike Air Zoom Winflo 4   Road   110    4.7   \n",
       "1       Altra                       Altra Escalante 1.5   Road   160    4.7   \n",
       "2     Merrell  Merrell All Out Crush Tough Mudder 2 BOA  Trail   150    4.8   \n",
       "3    Skechers                     Skechers GOrun Ride 7   Road   110    4.6   \n",
       "4      Adidas                        Adidas Solar Glide   Road   170    4.5   \n",
       "5  Xero Shoes                           Xero Shoes Prio  Trail   110    4.6   \n",
       "6      Reebok                     Reebok Zigwild TR 5.0   Road   140    4.8   \n",
       "7       Asics                       Asics Gel Kayano 25   Road   190    4.6   \n",
       "8     Salomon                      Salomon Sonic RA Max   Road   160    4.6   \n",
       "9      Adidas                   Adidas Ultraboost Clima   Road   270    4.7   \n",
       "\n",
       "   stevilo ocen  ocena/st_ocen  st_ocen/ocena  \n",
       "0          97.0           0.05          20.64  \n",
       "1         251.0           0.02          53.40  \n",
       "2          66.0           0.07          13.75  \n",
       "3         147.0           0.03          31.96  \n",
       "4         157.0           0.03          34.89  \n",
       "5         886.0           0.01         192.61  \n",
       "6          70.0           0.07          14.58  \n",
       "7        1030.0           0.00         223.91  \n",
       "8          72.0           0.06          15.65  \n",
       "9         731.0           0.01         155.53  "
      ]
     },
     "execution_count": 24,
     "metadata": {},
     "output_type": "execute_result"
    }
   ],
   "source": [
    "modeli['ocena/st_ocen'] = (modeli['ocena']/modeli['stevilo ocen']).round(2)\n",
    "modeli['st_ocen/ocena'] = (modeli['stevilo ocen']/ modeli['ocena']).round(2)\n",
    "modeli.head(10)"
   ]
  },
  {
   "cell_type": "markdown",
   "metadata": {},
   "source": [
    "# # Grafična analiza podatkov"
   ]
  },
  {
   "cell_type": "markdown",
   "metadata": {},
   "source": [
    "#### Ocena glede na število ocen"
   ]
  },
  {
   "cell_type": "code",
   "execution_count": 25,
   "metadata": {},
   "outputs": [
    {
     "data": {
      "text/plain": [
       "<matplotlib.axes._subplots.AxesSubplot at 0x11a969710>"
      ]
     },
     "execution_count": 25,
     "metadata": {},
     "output_type": "execute_result"
    },
    {
     "data": {
      "image/png": "[encoded data removed]",
      "text/plain": [
       "<Figure size 432x288 with 1 Axes>"
      ]
     },
     "metadata": {
      "needs_background": "light"
     },
     "output_type": "display_data"
    }
   ],
   "source": [
    "#povprečna ocena glede na povprečno število ocen.\n",
    "m5.plot.scatter('ocena', 'stevilo ocen')"
   ]
  },
  {
   "cell_type": "code",
   "execution_count": 23,
   "metadata": {},
   "outputs": [
    {
     "data": {
      "text/plain": [
       "<matplotlib.axes._subplots.AxesSubplot at 0x103bcaba8>"
      ]
     },
     "execution_count": 23,
     "metadata": {},
     "output_type": "execute_result"
    },
    {
     "data": {
      "image/png": "[encoded data removed]",
      "text/plain": [
       "<Figure size 432x288 with 1 Axes>"
      ]
     },
     "metadata": {
      "needs_background": "light"
     },
     "output_type": "display_data"
    }
   ],
   "source": [
    "#ocena glede na število ocen\n",
    "modeli.plot.scatter('ocena', 'stevilo ocen')"
   ]
  },
  {
   "cell_type": "markdown",
   "metadata": {},
   "source": [
    "Zgornja grafa prikazujeta kakšna je ocena glede na število ocen. Prva tabela združuje modele po znamkah in izračuna povprečno oceno in povprečno število ocen, druga tabela pa ne. Ampak je zato v drugi tabeli bolj vidno, da manjšo (<3.5) oziroma večjo oceno (>4.9) dobijo predvsem tisti modeli, ki imajo manjše število ocen. Ugotovimo da, sama ocena ni najbolj relavantna, saj je odvisna od števila ocen. "
   ]
  },
  {
   "cell_type": "markdown",
   "metadata": {},
   "source": [
    "#### Razmerje ocene in števila ocen"
   ]
  },
  {
   "cell_type": "code",
   "execution_count": 111,
   "metadata": {
    "scrolled": false
   },
   "outputs": [
    {
     "data": {
      "text/plain": [
       "<matplotlib.axes._subplots.AxesSubplot at 0x12e0fd0f0>"
      ]
     },
     "execution_count": 111,
     "metadata": {},
     "output_type": "execute_result"
    },
    {
     "data": {
      "image/png": "[encoded data removed]",
      "text/plain": [
       "<Figure size 432x288 with 1 Axes>"
      ]
     },
     "metadata": {
      "needs_background": "light"
     },
     "output_type": "display_data"
    }
   ],
   "source": [
    "#povprečno število ocen na model za posamezno znamko\n",
    "modeli.groupby('znamka').mean().sort_values('stevilo ocen', ascending=False).head(20).plot.bar(y ='stevilo ocen')"
   ]
  },
  {
   "cell_type": "markdown",
   "metadata": {},
   "source": [
    "Največ ocen ima torej Salomon, Vibram FiveFingers Nike in Asics. Nike in Asics sta znamki, ki sta med znamkami z največ modeli. "
   ]
  },
  {
   "cell_type": "code",
   "execution_count": 106,
   "metadata": {},
   "outputs": [
    {
     "data": {
      "text/plain": [
       "<matplotlib.axes._subplots.AxesSubplot at 0x12aa020b8>"
      ]
     },
     "execution_count": 106,
     "metadata": {},
     "output_type": "execute_result"
    },
    {
     "data": {
      "image/png": "[encoded data removed]",
      "text/plain": [
       "<Figure size 432x288 with 1 Axes>"
      ]
     },
     "metadata": {
      "needs_background": "light"
     },
     "output_type": "display_data"
    }
   ],
   "source": [
    "modeli2 = pd.read_csv('obdelani-podatki/vsi-modeli.csv')\n",
    "modeli_z_o = modeli2[['znamka','ocena']]\n",
    "modeli_z_o.groupby('znamka').mean().sort_values('ocena',ascending=False).plot.bar()\n",
    "#povprečna ocena po znamkah"
   ]
  },
  {
   "cell_type": "markdown",
   "metadata": {},
   "source": [
    "Vidimo, da ima najboljšo povprečno oceno 361 Degrees. Sledijo ji Jordan, Skechers in Puma. Zanimivo je to, da med najboljšimi tremi, ni znamke z najbolje ocenjenim modelom."
   ]
  },
  {
   "cell_type": "code",
   "execution_count": 78,
   "metadata": {},
   "outputs": [
    {
     "data": {
      "text/plain": [
       "<matplotlib.axes._subplots.AxesSubplot at 0x12bff5240>"
      ]
     },
     "execution_count": 78,
     "metadata": {},
     "output_type": "execute_result"
    },
    {
     "data": {
      "image/png": "[encoded data removed]",
      "text/plain": [
       "<Figure size 432x288 with 1 Axes>"
      ]
     },
     "metadata": {
      "needs_background": "light"
     },
     "output_type": "display_data"
    }
   ],
   "source": [
    "#Razmerje\n",
    "modeli.groupby('znamka').mean().sort_values('st_ocen/ocena', ascending=False).head(20).plot.bar(y = 'st_ocen/ocena')"
   ]
  },
  {
   "cell_type": "markdown",
   "metadata": {},
   "source": [
    "Poglejmo si še razmerje med številom ocen in oceno.Večje kot je razmerje, bolje lahko ocenimo znamko ali model. Vidimo da je v ospredju Vibram FiveFingers, Salomon in Nike. Zanimivo je to da ima po številu ocen Salomon večje število, ampak iz podatkov lahko sklepamo da je slabše ocenjen."
   ]
  },
  {
   "cell_type": "code",
   "execution_count": 115,
   "metadata": {},
   "outputs": [
    {
     "data": {
      "text/plain": [
       "<matplotlib.axes._subplots.AxesSubplot at 0x12e7a3e80>"
      ]
     },
     "execution_count": 115,
     "metadata": {},
     "output_type": "execute_result"
    },
    {
     "data": {
      "image/png": "[encoded data removed]",
      "text/plain": [
       "<Figure size 432x288 with 1 Axes>"
      ]
     },
     "metadata": {
      "needs_background": "light"
     },
     "output_type": "display_data"
    }
   ],
   "source": [
    "modeli.groupby('znamka').mean().sort_values('cena', ascending=False).head(30).plot.bar(y = 'cena')"
   ]
  },
  {
   "cell_type": "markdown",
   "metadata": {},
   "source": [
    "Zgornji graf prikazuje povprečno oceno modela za določeno znamko. Vidimo da ima najvišjo oceno Newton, On, Scott in Salomon. Zanimivo je, da najbolje ocenjenih znamk (prvih 3) v tej razpredelnici  ni, torej imajo nižjo povprečno ceno kot 150 EUR. "
   ]
  },
  {
   "cell_type": "code",
   "execution_count": 97,
   "metadata": {},
   "outputs": [
    {
     "data": {
      "text/plain": [
       "<matplotlib.axes._subplots.AxesSubplot at 0x12c79f550>"
      ]
     },
     "execution_count": 97,
     "metadata": {},
     "output_type": "execute_result"
    },
    {
     "data": {
      "image/png": "[encoded data removed]",
      "text/plain": [
       "<Figure size 432x288 with 1 Axes>"
      ]
     },
     "metadata": {},
     "output_type": "display_data"
    }
   ],
   "source": [
    "m = modeli.groupby('teren').count()\n",
    "m.head(10)\n",
    "m.plot.pie(y = 'model')"
   ]
  },
  {
   "cell_type": "code",
   "execution_count": 94,
   "metadata": {},
   "outputs": [
    {
     "data": {
      "text/html": [
       "<div>\n",
       "<style scoped>\n",
       "    .dataframe tbody tr th:only-of-type {\n",
       "        vertical-align: middle;\n",
       "    }\n",
       "\n",
       "    .dataframe tbody tr th {\n",
       "        vertical-align: top;\n",
       "    }\n",
       "\n",
       "    .dataframe thead th {\n",
       "        text-align: right;\n",
       "    }\n",
       "</style>\n",
       "<table border=\"1\" class=\"dataframe\">\n",
       "  <thead>\n",
       "    <tr style=\"text-align: right;\">\n",
       "      <th></th>\n",
       "      <th>znamka</th>\n",
       "      <th>model</th>\n",
       "      <th>cena</th>\n",
       "      <th>ocena</th>\n",
       "      <th>stevilo ocen</th>\n",
       "      <th>ocena/st_ocen</th>\n",
       "      <th>st_ocen/ocena</th>\n",
       "    </tr>\n",
       "    <tr>\n",
       "      <th>teren</th>\n",
       "      <th></th>\n",
       "      <th></th>\n",
       "      <th></th>\n",
       "      <th></th>\n",
       "      <th></th>\n",
       "      <th></th>\n",
       "      <th></th>\n",
       "    </tr>\n",
       "  </thead>\n",
       "  <tbody>\n",
       "    <tr>\n",
       "      <th>Road</th>\n",
       "      <td>709</td>\n",
       "      <td>709</td>\n",
       "      <td>709</td>\n",
       "      <td>673</td>\n",
       "      <td>673</td>\n",
       "      <td>673</td>\n",
       "      <td>673</td>\n",
       "    </tr>\n",
       "    <tr>\n",
       "      <th>Trail</th>\n",
       "      <td>250</td>\n",
       "      <td>250</td>\n",
       "      <td>250</td>\n",
       "      <td>233</td>\n",
       "      <td>233</td>\n",
       "      <td>233</td>\n",
       "      <td>233</td>\n",
       "    </tr>\n",
       "  </tbody>\n",
       "</table>\n",
       "</div>"
      ],
      "text/plain": [
       "       znamka  model  cena  ocena  stevilo ocen  ocena/st_ocen  st_ocen/ocena\n",
       "teren                                                                        \n",
       "Road      709    709   709    673           673            673            673\n",
       "Trail     250    250   250    233           233            233            233"
      ]
     },
     "execution_count": 94,
     "metadata": {},
     "output_type": "execute_result"
    }
   ],
   "source": [
    "m.head(19)"
   ]
  },
  {
   "cell_type": "markdown",
   "metadata": {},
   "source": [
    "Največ modelov je namenjenih za teren 'road' , preostali pa so namenjeni tipu terena 'trail'. "
   ]
  },
  {
   "cell_type": "markdown",
   "metadata": {},
   "source": [
    "# Zaključek"
   ]
  },
  {
   "cell_type": "markdown",
   "metadata": {},
   "source": [
    "Ugotovitve analize so: \n",
    "    1.Ali obstaja povezava med najbolje ocenjenimi modeli tekaških čevljev in višjo ceno? Ali so modeli z nižjo ceno bolje ocenjeni? \n",
    "Iz analiz ocene in cene je razvidno, da ne moremo trditi, da so modeli z nižjo ceno bolje ocenjeni. Najboljšo oceno so dobili čevji z razmeroma visoko ceno - iz grafa povprečne cene na znamko, je razvidno, da ima prvih 30 znamk povprečno ceno nad 125 EUR, medtem ko imajo najbolje ocenjeni modeli, ceno nad 140 EUR razen ene izjeme.\n",
    "    2. Ali obstaja povezava med najbolje ocenjenimi modeli in znamko? \n",
    "Znamke z najbolje ocenjeni modeli so Topo Athletic, Reebok, Asics, Adidas, Inov-8 in Salomon. Reebok ima dva modela, ki sta med najbolje ocenjenima. Zanimala me je tudi povprečna ocena glede na znamko in število ocen. Iz analize je razvidno, da so modeli z visoko oceno, razmeroma z nizkim številom ocen. Največje število ocen imajo naslednje znamke: Salomon, Vibram FiveFingers in Nike. Najvišjo povprečno oceno pa ima 361 Degrees, Skechers in Jordan. Torej nekako ne vidimo znamke z najboljšimi modeli med znamkami z najvišjo povprečno oceno. Reebook, ki ima sicer dva modela z najvišjo oceno, je na 13. mestu po povprečni oceni. Če pogledamo razmerje med številom ocen in oceno so med najboljšimi Vibram FiveFingers, Salomon, Nike in Asics. To so tudi znamke z najvišjim številom ocen. Najvišjo ceno ima izmed teh štirih Salomon nato sledijo po vrsti Asics, Nike in Vibram Five Fingers.\n"
   ]
  }
 ],
 "metadata": {
  "kernelspec": {
   "display_name": "Python 3",
   "language": "python",
   "name": "python3"
  },
  "language_info": {
   "codemirror_mode": {
    "name": "ipython",
    "version": 3
   },
   "file_extension": ".py",
   "mimetype": "text/x-python",
   "name": "python",
   "nbconvert_exporter": "python",
   "pygments_lexer": "ipython3",
   "version": "3.7.1"
  }
 },
 "nbformat": 4,
 "nbformat_minor": 2
}
